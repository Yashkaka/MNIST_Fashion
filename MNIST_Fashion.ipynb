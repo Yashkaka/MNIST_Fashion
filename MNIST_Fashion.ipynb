{
  "nbformat": 4,
  "nbformat_minor": 0,
  "metadata": {
    "colab": {
      "name": "MNIST_Fashion.ipynb",
      "provenance": [],
      "collapsed_sections": [],
      "mount_file_id": "1_KI0fEFGylQxNlnnakOlokkyyCSHtiBc",
      "authorship_tag": "ABX9TyOY81BupA2oTztSGmPSoRyh",
      "include_colab_link": true
    },
    "kernelspec": {
      "name": "python3",
      "display_name": "Python 3"
    },
    "language_info": {
      "name": "python"
    }
  },
  "cells": [
    {
      "cell_type": "markdown",
      "metadata": {
        "id": "view-in-github",
        "colab_type": "text"
      },
      "source": [
        "<a href=\"https://colab.research.google.com/github/Yashkaka/MNIST_Fashion/blob/main/MNIST_Fashion.ipynb\" target=\"_parent\"><img src=\"https://colab.research.google.com/assets/colab-badge.svg\" alt=\"Open In Colab\"/></a>"
      ]
    },
    {
      "cell_type": "code",
      "execution_count": null,
      "metadata": {
        "colab": {
          "base_uri": "https://localhost:8080/",
          "height": 35
        },
        "id": "decJl6d6sulh",
        "outputId": "131d0b9b-c23e-42d2-9d93-b5b2d6752017"
      },
      "outputs": [
        {
          "output_type": "execute_result",
          "data": {
            "application/vnd.google.colaboratory.intrinsic+json": {
              "type": "string"
            },
            "text/plain": [
              "'1.0.2'"
            ]
          },
          "metadata": {},
          "execution_count": 6
        }
      ],
      "source": [
        "import numpy as np\n",
        "import pandas as pd\n",
        "import sklearn\n",
        "import matplotlib.pyplot as plt\n",
        "sklearn.__version__"
      ]
    },
    {
      "cell_type": "code",
      "source": [
        "from sklearn.datasets import fetch_openml\n",
        "fashion_mnist = fetch_openml(data_id=40996) "
      ],
      "metadata": {
        "id": "X1gypgeltpc7"
      },
      "execution_count": null,
      "outputs": []
    },
    {
      "cell_type": "code",
      "source": [
        "string = \"0 T-shirt/top \\n1 Trouser \\n2 Pullover \\n3 Dress \\n4 Coat \\n5 Sandal \\n6 Shirt \\n7 Sneaker \\n8 Bag \\n9 Ankle boot\"\n"
      ],
      "metadata": {
        "id": "LwUTA946tq0K"
      },
      "execution_count": null,
      "outputs": []
    },
    {
      "cell_type": "code",
      "source": [
        "x,y = fashion_mnist['data'],fashion_mnist['target']\n",
        "labels_s = '0 T-shirt/top \\n1 Trouser \\n2 Pullover \\n3 Dress \\n4 Coat \\n5 Sandal \\n6 Shirt \\n7 Sneaker \\n8 Bag \\n9 Ankle boot'\n",
        "\n",
        "fashion_label_translation = {\n",
        "    int(k): v for k, v in [\n",
        "        item.split(maxsplit=1) for item in labels_s.split('\\n')\n",
        "    ]\n",
        "}\n",
        "\n",
        "\n",
        "def translate_label(y, translation=fashion_label_translation):\n",
        "    return pd.Series(y).apply(lambda y: translation[int(y)]).values\n",
        "\n",
        "fashion_label_translation\n",
        "translate_label(y)\n"
      ],
      "metadata": {
        "colab": {
          "base_uri": "https://localhost:8080/"
        },
        "id": "JU0FByEhuBwW",
        "outputId": "e0156505-aedf-48af-9174-f60b67ef3e10"
      },
      "execution_count": null,
      "outputs": [
        {
          "output_type": "execute_result",
          "data": {
            "text/plain": [
              "['Ankle boot', 'T-shirt/top ', 'T-shirt/top ', 'Dress ', 'T-shirt/top ', ..., 'Ankle boot', 'Trouser ', 'Bag ', 'Trouser ', 'Sandal ']\n",
              "Length: 70000\n",
              "Categories (10, object): ['T-shirt/top ', 'Trouser ', 'Pullover ', 'Dress ', ..., 'Shirt ', 'Sneaker ',\n",
              "                          'Bag ', 'Ankle boot']"
            ]
          },
          "metadata": {},
          "execution_count": 7
        }
      ]
    },
    {
      "cell_type": "code",
      "source": [
        "len(fashion_mnist['data'])\n"
      ],
      "metadata": {
        "colab": {
          "base_uri": "https://localhost:8080/"
        },
        "id": "YBMctyQrwco4",
        "outputId": "57a0f4dd-47df-48f5-f9ff-1857b9635a71"
      },
      "execution_count": null,
      "outputs": [
        {
          "output_type": "execute_result",
          "data": {
            "text/plain": [
              "70000"
            ]
          },
          "metadata": {},
          "execution_count": 8
        }
      ]
    },
    {
      "cell_type": "code",
      "source": [
        "\n",
        "X, y = fashion_mnist['data'], fashion_mnist['target']\n",
        "X.shape"
      ],
      "metadata": {
        "colab": {
          "base_uri": "https://localhost:8080/"
        },
        "id": "6AOY4cMWwhUi",
        "outputId": "c7f9940b-d85c-435c-8a62-37b7e1641bbd"
      },
      "execution_count": null,
      "outputs": [
        {
          "output_type": "execute_result",
          "data": {
            "text/plain": [
              "(70000, 784)"
            ]
          },
          "metadata": {},
          "execution_count": 9
        }
      ]
    },
    {
      "cell_type": "code",
      "source": [
        "y = y.astype(\"float\")\n"
      ],
      "metadata": {
        "id": "im4TPATVwpZc"
      },
      "execution_count": null,
      "outputs": []
    },
    {
      "cell_type": "code",
      "source": [
        "X.iloc[69998]\n"
      ],
      "metadata": {
        "colab": {
          "base_uri": "https://localhost:8080/"
        },
        "id": "BgKxmxwCwsSB",
        "outputId": "a9dc2c1e-bfb6-4a55-b809-68e42874c413"
      },
      "execution_count": null,
      "outputs": [
        {
          "output_type": "execute_result",
          "data": {
            "text/plain": [
              "pixel1      0.0\n",
              "pixel2      0.0\n",
              "pixel3      0.0\n",
              "pixel4      0.0\n",
              "pixel5      0.0\n",
              "           ... \n",
              "pixel780    0.0\n",
              "pixel781    0.0\n",
              "pixel782    0.0\n",
              "pixel783    0.0\n",
              "pixel784    0.0\n",
              "Name: 69998, Length: 784, dtype: float64"
            ]
          },
          "metadata": {},
          "execution_count": 11
        }
      ]
    },
    {
      "cell_type": "code",
      "source": [
        "fashion_label_translation[y[69998]]\n"
      ],
      "metadata": {
        "colab": {
          "base_uri": "https://localhost:8080/",
          "height": 35
        },
        "id": "6p2ICY4twxu4",
        "outputId": "75e66406-e1a2-4ecc-d087-eb51d8098d34"
      },
      "execution_count": null,
      "outputs": [
        {
          "output_type": "execute_result",
          "data": {
            "application/vnd.google.colaboratory.intrinsic+json": {
              "type": "string"
            },
            "text/plain": [
              "'Trouser '"
            ]
          },
          "metadata": {},
          "execution_count": 12
        }
      ]
    },
    {
      "cell_type": "code",
      "source": [
        "\n",
        "%matplotlib inline\n",
        "import matplotlib\n",
        "import matplotlib.pyplot as plt\n",
        "import seaborn as sns\n",
        "def viz(n):\n",
        "    plt.imshow(X.iloc[n].to_numpy().reshape(28,28))\n",
        "    return"
      ],
      "metadata": {
        "id": "EuX_Pa3Fw3y9"
      },
      "execution_count": null,
      "outputs": []
    },
    {
      "cell_type": "code",
      "source": [
        "viz(69998)\n"
      ],
      "metadata": {
        "colab": {
          "base_uri": "https://localhost:8080/",
          "height": 265
        },
        "id": "RrSSX6D3w8MW",
        "outputId": "70dc315d-070c-4190-eed9-923d158c2549"
      },
      "execution_count": null,
      "outputs": [
        {
          "output_type": "display_data",
          "data": {
            "image/png": "[encoded data removed]",
            "text/plain": [
              "<Figure size 432x288 with 1 Axes>"
            ]
          },
          "metadata": {
            "needs_background": "light"
          }
        }
      ]
    },
    {
      "cell_type": "code",
      "source": [
        "from sklearn.model_selection import train_test_split\n",
        "X_train, X_test, y_train, y_test = train_test_split(X, y, test_size=0.2, shuffle=True, random_state=42)"
      ],
      "metadata": {
        "id": "9MFpkEzzw-tU"
      },
      "execution_count": null,
      "outputs": []
    },
    {
      "cell_type": "code",
      "source": [
        "from sklearn.linear_model import SGDClassifier\n",
        "\n",
        "clf = SGDClassifier(random_state = 0)\n",
        "clf.fit(X_train, y_train)"
      ],
      "metadata": {
        "colab": {
          "base_uri": "https://localhost:8080/"
        },
        "id": "nndPNj9UxF1c",
        "outputId": "9c453a22-3319-45c6-8a17-c3869e299c55"
      },
      "execution_count": null,
      "outputs": [
        {
          "output_type": "execute_result",
          "data": {
            "text/plain": [
              "SGDClassifier(random_state=0)"
            ]
          },
          "metadata": {},
          "execution_count": 16
        }
      ]
    },
    {
      "cell_type": "code",
      "source": [
        "viz(10)\n",
        "fashion_label_translation[clf.predict(X.iloc[10].to_numpy().reshape(1, -1))[0]]"
      ],
      "metadata": {
        "colab": {
          "base_uri": "https://localhost:8080/",
          "height": 338
        },
        "id": "iK3lC466xMpp",
        "outputId": "41218875-db69-42d4-dae2-3439209bace4"
      },
      "execution_count": null,
      "outputs": [
        {
          "output_type": "stream",
          "name": "stderr",
          "text": [
            "/usr/local/lib/python3.7/dist-packages/sklearn/base.py:451: UserWarning: X does not have valid feature names, but SGDClassifier was fitted with feature names\n",
            "  \"X does not have valid feature names, but\"\n"
          ]
        },
        {
          "output_type": "execute_result",
          "data": {
            "application/vnd.google.colaboratory.intrinsic+json": {
              "type": "string"
            },
            "text/plain": [
              "'T-shirt/top '"
            ]
          },
          "metadata": {},
          "execution_count": 17
        },
        {
          "output_type": "display_data",
          "data": {
            "image/png": "[encoded data removed]",
            "text/plain": [
              "<Figure size 432x288 with 1 Axes>"
            ]
          },
          "metadata": {
            "needs_background": "light"
          }
        }
      ]
    },
    {
      "cell_type": "code",
      "source": [
        "y_pred = clf.predict(X_test)\n"
      ],
      "metadata": {
        "id": "UWMBsgugyAEg"
      },
      "execution_count": null,
      "outputs": []
    },
    {
      "cell_type": "code",
      "source": [
        "from sklearn.metrics import accuracy_score, confusion_matrix\n",
        "print(accuracy_score(y_test,y_pred))"
      ],
      "metadata": {
        "colab": {
          "base_uri": "https://localhost:8080/"
        },
        "id": "pG-hv0teyHCw",
        "outputId": "0789db30-bcce-479b-af4b-604cbfcd3aa9"
      },
      "execution_count": null,
      "outputs": [
        {
          "output_type": "stream",
          "name": "stdout",
          "text": [
            "0.8127857142857143\n"
          ]
        }
      ]
    },
    {
      "cell_type": "code",
      "source": [
        "cf_matrix = confusion_matrix(y_test, y_pred)\n",
        "print(cf_matrix)"
      ],
      "metadata": {
        "colab": {
          "base_uri": "https://localhost:8080/"
        },
        "id": "MoEEsryTyLF4",
        "outputId": "692a99a0-400f-49c5-c015-86454babd5b3"
      },
      "execution_count": null,
      "outputs": [
        {
          "output_type": "stream",
          "name": "stdout",
          "text": [
            "[[1055    5   93  139    3    4   65    0   30    0]\n",
            " [   7 1324   12   50    0    1    5    0    3    0]\n",
            " [   7    3 1240   32   66    0   41    0   18    0]\n",
            " [  28   18   24 1336   19    1   16    0    6    1]\n",
            " [   7    2  454  157  596    0  131    0   10    0]\n",
            " [   0    2    1    3    0 1313    1   59   21   49]\n",
            " [ 186    5  320  142   52    0  658    0   44    0]\n",
            " [   0    0    0    0    0   39    0 1198    6  116]\n",
            " [   4    3   15   14    2   12    7    5 1278    2]\n",
            " [   0    0    0    2    0   24    0   24    3 1381]]\n"
          ]
        }
      ]
    },
    {
      "cell_type": "code",
      "source": [
        "fashion_label_translation\n"
      ],
      "metadata": {
        "colab": {
          "base_uri": "https://localhost:8080/"
        },
        "id": "nP_fiMKtyOLY",
        "outputId": "eddd33b3-5b82-4244-8156-6f4d61aa104b"
      },
      "execution_count": null,
      "outputs": [
        {
          "output_type": "execute_result",
          "data": {
            "text/plain": [
              "{0: 'T-shirt/top ',\n",
              " 1: 'Trouser ',\n",
              " 2: 'Pullover ',\n",
              " 3: 'Dress ',\n",
              " 4: 'Coat ',\n",
              " 5: 'Sandal ',\n",
              " 6: 'Shirt ',\n",
              " 7: 'Sneaker ',\n",
              " 8: 'Bag ',\n",
              " 9: 'Ankle boot'}"
            ]
          },
          "metadata": {},
          "execution_count": 21
        }
      ]
    },
    {
      "cell_type": "code",
      "source": [
        "labels = [\"T-shirt/top\",\"trouser\",\"pullover\",\"dress\",\"coat\",\"Sandal\",\"Shirt\",\"Sneaker\",\"Bag\",\"Ankle boot\"]\n"
      ],
      "metadata": {
        "id": "mDumkLga3NNV"
      },
      "execution_count": null,
      "outputs": []
    },
    {
      "cell_type": "code",
      "source": [
        "import seaborn as sns\n",
        "sns.set(rc={'figure.figsize':(10,10)})\n",
        "y = sns.heatmap(cf_matrix,annot=True,cmap='jet', fmt=\"d\",xticklabels=labels, yticklabels=labels)\n",
        "y.set(xlabel='predicted', ylabel='true')\n",
        "plt.show()"
      ],
      "metadata": {
        "colab": {
          "base_uri": "https://localhost:8080/",
          "height": 661
        },
        "id": "tj2bknCY3VLP",
        "outputId": "2f56d264-5dfb-4e81-b11f-b4889f5c7638"
      },
      "execution_count": null,
      "outputs": [
        {
          "output_type": "display_data",
          "data": {
            "image/png": "[encoded data removed]",
            "text/plain": [
              "<Figure size 720x720 with 2 Axes>"
            ]
          },
          "metadata": {}
        }
      ]
    }
  ]
}